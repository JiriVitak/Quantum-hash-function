{
 "cells": [
  {
   "cell_type": "markdown",
   "id": "d9f4ec6f",
   "metadata": {},
   "source": [
    "Libraries"
   ]
  },
  {
   "cell_type": "code",
   "execution_count": 104,
   "id": "5b242d16",
   "metadata": {},
   "outputs": [],
   "source": [
    "import numpy as np\n",
    "from scipy.linalg import expm"
   ]
  },
  {
   "cell_type": "code",
   "execution_count": 105,
   "id": "ac4e1a1e",
   "metadata": {},
   "outputs": [],
   "source": [
    "\n",
    "from qiskit.quantum_info import SparsePauliOp, Operator\n",
    "from qiskit_algorithms import TimeEvolutionProblem\n",
    "from qiskit_algorithms import TrotterQRTE\n",
    "from qiskit.quantum_info import Statevector\n",
    "from qiskit.synthesis import SuzukiTrotter, LieTrotter\n",
    "from qiskit.primitives import StatevectorEstimator\n",
    "\n",
    "# for fake backend\n",
    "from qiskit.providers.fake_provider import GenericBackendV2\n",
    "from qiskit import transpile\n",
    "from qiskit import QuantumCircuit"
   ]
  },
  {
   "cell_type": "markdown",
   "id": "625adef6",
   "metadata": {},
   "source": [
    "Convertor of text to binary"
   ]
  },
  {
   "cell_type": "code",
   "execution_count": 112,
   "id": "a383b811",
   "metadata": {},
   "outputs": [],
   "source": [
    "#def text_to_binary(text):\n",
    "    #return ' '.join(format(ord(char), '08b') for char in text)\n",
    "\n",
    "def text_to_binary(text):\n",
    "    return ''.join(format(ord(char), '08b') for char in text)"
   ]
  },
  {
   "cell_type": "markdown",
   "id": "3fbff6c5",
   "metadata": {},
   "source": [
    "Theory"
   ]
  },
  {
   "cell_type": "code",
   "execution_count": 362,
   "id": "6c55f99d",
   "metadata": {},
   "outputs": [],
   "source": [
    "def A_matrix(N):\n",
    "    if N < 2:\n",
    "        raise ValueError(\"Path graph must have at least 2 nodes.\")\n",
    "    \n",
    "    A = np.zeros((N, N), dtype=int)\n",
    "    for i in range(N-2):\n",
    "        A[i, i+1] = 1\n",
    "        A[i+1, i] = 1\n",
    "\n",
    "    return A\n",
    "\n",
    "def D_matrix(N):\n",
    "    if N < 2:\n",
    "        raise ValueError(\"Path graph must have at least 2 nodes.\")\n",
    "    \n",
    "    D = np.zeros((N, N), dtype=int)\n",
    "    for i in range(N-1):\n",
    "        if i == 0 or i == N-1:\n",
    "            D[i, i] = 1\n",
    "        else:\n",
    "            D[i, i] = 2\n",
    "    \n",
    "    return D\n",
    "\n",
    "def L_matrix(D, A):\n",
    "    L = D-A\n",
    "    return L\n",
    "\n",
    "def A_cycle(N):\n",
    "    if N < 3:\n",
    "        raise ValueError(\"Cycle graph must have at least 3 nodes.\")\n",
    "    \n",
    "    A = np.zeros((N, N), dtype=int)\n",
    "    for i in range(N):\n",
    "        A[i, (i+1) % N] = 1  # Connect to next node (with wrap-around)\n",
    "        A[(i+1) % N, i] = 1  # Connect back\n",
    "    \n",
    "    return A\n",
    "\n",
    "def D_cycle(N):\n",
    "    if N < 3:\n",
    "        raise ValueError(\"Cycle graph must have at least 3 nodes.\")\n",
    "    \n",
    "    # In a cycle graph, each node has degree 2\n",
    "    D = 2 * np.eye(N, dtype=int)\n",
    "    \n",
    "    return D\n",
    "\n",
    "def L_cycle(D, A):\n",
    "    L = D - A\n",
    "    return L\n",
    "\n",
    "def U_0(A, t):\n",
    "    evolution_0 = expm(-1j*t*A)\n",
    "    return evolution_0\n",
    "\n",
    "def U_1(L, t):\n",
    "    evolution_1 = expm(-1j*t*L)\n",
    "    return evolution_1\n",
    "\n",
    "def initial_state(N, position):\n",
    "    if N <= 0:\n",
    "        raise ValueError(\"N must be a positive integer.\")\n",
    "    \n",
    "    state = np.zeros(N, dtype=complex)\n",
    "    state[position] = 1\n",
    "    return state\n",
    "\n",
    "def CTQW(message,t):\n",
    "    num_bits = len(message)\n",
    "\n",
    "    if num_bits <= 0:\n",
    "        raise ValueError(\"Number of bits must be a positive integer.\")\n",
    "    \n",
    "    state = initial_state(15, 0)\n",
    "    #evolution_0 = U_0(A_cycle(num_bits), t)\n",
    "    #evolution_1 = U_1(L_cycle(D_cycle(num_bits), A_cycle(num_bits)), t)\n",
    "    evolution_0 = U_0(A_matrix(15), t)\n",
    "    evolution_1 = U_1(L_matrix(D_matrix(15), A_matrix(15)), t)\n",
    "\n",
    "    for bit in range(num_bits):\n",
    "        if message[bit] == '0':\n",
    "            new_state = evolution_0 @ state\n",
    "        else:\n",
    "            new_state = evolution_1 @ state\n",
    "        state = new_state\n",
    "    return state\n",
    "\n",
    "def prob_dist(state):\n",
    "    prob_dist = np.abs(state)**2\n",
    "    for i in range(len(prob_dist)):\n",
    "        prob_dist[i] = prob_dist[i] * 2* 10**4\n",
    "\n",
    "    #norm = np.sum(prob_dist)\n",
    "    #norm_prob_dist = prob_dist / norm\n",
    "    return prob_dist\n",
    "\n",
    "def get_binary(prob_dist):\n",
    "    binary_list = [format(int(p), '012b') for p in prob_dist]\n",
    "    \n",
    "    # Concatenate all binary values into one string\n",
    "    hash_value = ''.join(binary_list)\n",
    "    \n",
    "    return hash_value\n",
    "\n",
    "def get_hash(prob_dist):\n",
    "    list = [format(int(p * 4095), '03x') for p in prob_dist]\n",
    "    hash_value = ''.join(list)\n",
    "    \n",
    "    return hash_value"
   ]
  },
  {
   "cell_type": "code",
   "execution_count": 357,
   "id": "d45b7dd9",
   "metadata": {},
   "outputs": [
    {
     "name": "stdout",
     "output_type": "stream",
     "text": [
      "Probability distribution: [  141.29811927 19858.70188073     0.        ]\n",
      "Hash value: 8d4374d8dda8000\n"
     ]
    }
   ],
   "source": [
    "#text = text_to_binary(\"Hi\")\n",
    "#print(text)\n",
    "text = '110'\n",
    "\n",
    "CTQW_run = CTQW(text, 1.2)\n",
    "print(\"Probability distribution:\", prob_dist(CTQW_run))\n",
    "hash_value = get_hash(prob_dist(CTQW_run))\n",
    "print(\"Hash value:\", hash_value)"
   ]
  },
  {
   "cell_type": "markdown",
   "id": "939ebd85",
   "metadata": {},
   "source": [
    "Trotterization"
   ]
  },
  {
   "cell_type": "code",
   "execution_count": 309,
   "id": "fd0964c6",
   "metadata": {},
   "outputs": [],
   "source": [
    "def matrix_to_pauli(matrix):\n",
    "    operator = Operator(matrix)\n",
    "    pauli_list = SparsePauliOp.from_operator(operator)\n",
    "    return pauli_list\n",
    "\n",
    "def trotterization(initial_state, final_time, pauli_list, type, repetitions):\n",
    "\n",
    "    problem = TimeEvolutionProblem(pauli_list, initial_state=initial_state, time=final_time)\n",
    "\n",
    "    trotter = TrotterQRTE(product_formula=type, num_timesteps=repetitions, estimator= StatevectorEstimator())\n",
    "    result = trotter.evolve(problem)\n",
    "\n",
    "    return result\n",
    "\n",
    "def trotter_circuit(num_qubits, backend, initial_state, final_time, hamiltonian, type, repetitions, optimization_level):\n",
    "    pauli_list = matrix_to_pauli(hamiltonian)\n",
    "    qc = QuantumCircuit(num_qubits)\n",
    "    \n",
    "    trotter_circuit = trotterization(initial_state, final_time, pauli_list, type, repetitions).evolved_state\n",
    "\n",
    "    qc.compose(trotter_circuit, inplace=True)\n",
    "    qc.measure_all()\n",
    "\n",
    "    transpiled_circuit = transpile(qc, backend, optimization_level)\n",
    "\n",
    "    return transpiled_circuit\n",
    "\n",
    "def calculate_trotter_prob_distribution(initial_state, final_time, hamiltonian, type, repetitions):\n",
    "    # Trotterize the time evolution\n",
    "    pauli_list = matrix_to_pauli(hamiltonian)\n",
    "    trotter_circuit = trotterization(initial_state, final_time, pauli_list, type, repetitions).evolved_state\n",
    "    print(trotter_circuit)\n",
    "    trotter_result = Statevector(trotter_circuit)\n",
    "    trotter_prob_distribution = np.abs(trotter_result)**2\n",
    "    \n",
    "    return trotter_prob_distribution\n",
    "\n",
    "def calculate_trotter_state(initial_state, final_time, hamiltonian, type, repetitions):\n",
    "    pauli_list = matrix_to_pauli(hamiltonian)\n",
    "    trotter_circuit = trotterization(initial_state, final_time, pauli_list, type, repetitions).evolved_state\n",
    "    #print(trotter_circuit)\n",
    "    trotter_result = Statevector(trotter_circuit)\n",
    "    return trotter_result\n",
    "\n",
    "def trotter_circuit_real_backend(num_qubits, backend, initial_state, final_time, hamiltonian, type, repetitions):\n",
    "    pauli_list = matrix_to_pauli(hamiltonian)\n",
    "    qc = QuantumCircuit(num_qubits)\n",
    "    \n",
    "    trotter_circuit = trotterization(initial_state, final_time, pauli_list, type, repetitions).evolved_state\n",
    "\n",
    "    qc.compose(trotter_circuit, inplace=True)\n",
    "    qc.measure_all()\n",
    "\n",
    "    return qc   \n",
    "\n",
    "def draw_circuit(result, reps):\n",
    "    return result.decompose().draw(output='mpl', fold=reps, idle_wires=False, scale=0.8, reverse_bits=True)"
   ]
  },
  {
   "cell_type": "markdown",
   "id": "5306fae5",
   "metadata": {},
   "source": [
    "Algorithm on simulator"
   ]
  },
  {
   "cell_type": "code",
   "execution_count": 379,
   "id": "214d17c7",
   "metadata": {},
   "outputs": [
    {
     "name": "stdout",
     "output_type": "stream",
     "text": [
      "['0', '1', '1', '0', '1', '0', '1', '0', '1', '1', '1', '1']\n",
      "Hash value: 205298f2d6dcf39737401cfd185f826e223e168d1b3ab80c0\n"
     ]
    }
   ],
   "source": [
    "def CTQW_simulator(message,t):\n",
    "    num_bits = len(message)\n",
    "\n",
    "    if num_bits <= 0:\n",
    "        raise ValueError(\"Number of bits must be a positive integer.\")\n",
    "    \n",
    "    #state = initial_state(num_bits, 0)\n",
    "    num_qubits = 3\n",
    "    state = Statevector.from_label('0'* num_qubits)  # Initial state |000...0>\n",
    "    type = LieTrotter()  # or SuzukiTrotter()\n",
    "    repetitions = 30\n",
    "    #A = A_matrix(num_bits)\n",
    "    #L = L_matrix(D_matrix(num_bits), A)\n",
    "    size = 2**num_qubits\n",
    "    A = A_cycle(size)\n",
    "    L = L_cycle(D_cycle(size), A)\n",
    "    #A = A_matrix(size)\n",
    "    #L = L_matrix(D_matrix(size), A)\n",
    "\n",
    "    qc = QuantumCircuit(num_qubits)\n",
    "    for bit in range(num_bits):\n",
    "        if message[bit] == '0':\n",
    "            new_state = calculate_trotter_state(state, t, A, type, repetitions)\n",
    "        else:\n",
    "            new_state = calculate_trotter_state(state, t, L, type, repetitions)\n",
    "        state = new_state\n",
    "    return state\n",
    "\n",
    "#text = text_to_binary(\"ow\")\n",
    "#print(text)\n",
    "#text = '1101'\n",
    "# random 12 bits\n",
    "text = np.random.randint(2, size=12).astype(str).tolist()\n",
    "print(text)\n",
    "\n",
    "t = 2\n",
    "CTQW_run = CTQW_simulator(text, t)\n",
    "#print(\"Probability distribution:\", prob_dist(CTQW_run))\n",
    "hash_value = get_hash(prob_dist(CTQW_run))\n",
    "print(\"Hash value:\", hash_value)"
   ]
  },
  {
   "cell_type": "markdown",
   "id": "3afb4cfc",
   "metadata": {},
   "source": [
    "Analysis"
   ]
  },
  {
   "cell_type": "code",
   "execution_count": 380,
   "id": "b7848368",
   "metadata": {},
   "outputs": [
    {
     "data": {
      "text/plain": [
       "\"\\n# standard deviation of the mean change per bit probability\\ndef std_deviation_mean_changed_probability(num_experiments, length):\\n    random_string = random_binary_string(length)\\n    time = 4\\n    CTQW_run = CTQW(random_string, time)\\n    prob_dist_result = prob_dist(CTQW_run)\\n    original_hash_value = get_binary(prob_dist_result)\\n\\n    total_changed_bits = 0\\n    changed_bits_list = []\\n    for _ in range(num_experiments):\\n    # randomly change some bits in the random string\\n        changed_string = ''.join(np.random.choice(['0', '1'], size=length))\\n        CTQW_run_changed = CTQW(changed_string, time)\\n        changed_hash_value = prob_dist(CTQW_run_changed)\\n\\n        changed_bits = 0\\n        for bit in range(length):\\n            if original_hash_value[bit] != changed_hash_value[bit]:\\n                changed_bits += 1\\n\\n        changed_bits_list.append(changed_bits)\\n        total_changed_bits += changed_bits\\n\\n    mean_changed_bits_ = total_changed_bits / num_experiments\\n\\\\   \\n    difference = changed_bits_list - mean_changed_bits_\\n    delta_beta = np.sqrt(np.sum(changed_bits_list - mean_changed_bits_)**2/(num_experiments - 1))\\n    return delta_beta\\n\""
      ]
     },
     "execution_count": 380,
     "metadata": {},
     "output_type": "execute_result"
    }
   ],
   "source": [
    "# collision test\n",
    "def random_binary_string(length):\n",
    "    return ''.join(np.random.choice(['0', '1'], size=length))\n",
    "\n",
    "def collision_test(num_strings, length):\n",
    "    seen_hashes = set()\n",
    "    seen_strings = set()\n",
    "    collisions = 0\n",
    "\n",
    "    for _ in range(num_strings):\n",
    "        # Generate a new unique random string\n",
    "        while True:\n",
    "            random_string = random_binary_string(length)\n",
    "            if random_string not in seen_strings:\n",
    "                seen_strings.add(random_string)\n",
    "                break\n",
    "        \n",
    "        time = np.pi\n",
    "        CTQW_run = CTQW_simulator(random_string, time)\n",
    "        hash_binary_value = get_binary(prob_dist(CTQW_run))\n",
    "        print(\"Hash value:\", hash_binary_value)\n",
    "        if hash_binary_value in seen_hashes:\n",
    "            collisions += 1\n",
    "        else:\n",
    "            seen_hashes.add(hash_binary_value)\n",
    "\n",
    "    return collisions\n",
    "\n",
    "\n",
    "# mean number of bits changed\n",
    "def mean_changed_bits(num_experiments, length):\n",
    "    total_changed_bits = 0\n",
    "\n",
    "    for _ in range(num_experiments):\n",
    "        random_string = random_binary_string(length)\n",
    "        time = 4\n",
    "        CTQW_run = CTQW_simulator(random_string, time)\n",
    "        prob_dist_result = prob_dist(CTQW_run)\n",
    "        original_hash_value = get_binary(prob_dist_result)\n",
    "\n",
    "        total_changed_bits = 0\n",
    "        for _ in range(num_experiments):\n",
    "        # randomly change some bits in the random string\n",
    "            changed_string = ''.join(np.random.choice(['0', '1'], size=length))\n",
    "            CTQW_run_changed = CTQW(changed_string, time)\n",
    "            changed_prob_dist = prob_dist(CTQW_run_changed)\n",
    "            changed_hash_value = get_binary(changed_prob_dist)\n",
    "\n",
    "            changed_bits = 0\n",
    "            for bit in range(length):\n",
    "                if original_hash_value[bit] != changed_hash_value[bit]:\n",
    "                    changed_bits += 1\n",
    "            total_changed_bits += changed_bits\n",
    "\n",
    "    return total_changed_bits / num_experiments\n",
    "\n",
    "# mean probability of change per bit P\n",
    "def mean_changed_probability(num_experiments, length):\n",
    "    mean = mean_changed_bits(num_experiments, length)\n",
    "    total_hash_length = 180\n",
    "    p = (mean / total_hash_length)*100\n",
    "    return p  # Return as a percentage\n",
    "\n",
    "# Standard variance of the changed probability(\n",
    "def std_variance_changed_probability(num_experiments, length):\n",
    "    probabilities = []\n",
    "\n",
    "    for _ in range(num_experiments):\n",
    "        random_string = random_binary_string(length)\n",
    "        time = 4\n",
    "        CTQW_run = CTQW(random_string, time)\n",
    "        prob_dist_result = prob_dist(CTQW_run)\n",
    "        changed_bits = np.sum(prob_dist_result > 0.01)  # Threshold to consider a bit changed\n",
    "        p = (changed_bits / 180) * 100  # Assuming each bit contributes to a hash of length 4096\n",
    "        probabilities.append(p)\n",
    "\n",
    "    return np.std(probabilities)  # Return the standard deviation of the mean change per bit probability\n",
    "    \n",
    "\"\"\"\n",
    "# standard deviation of the mean change per bit probability\n",
    "def std_deviation_mean_changed_probability(num_experiments, length):\n",
    "    random_string = random_binary_string(length)\n",
    "    time = 4\n",
    "    CTQW_run = CTQW(random_string, time)\n",
    "    prob_dist_result = prob_dist(CTQW_run)\n",
    "    original_hash_value = get_binary(prob_dist_result)\n",
    "\n",
    "    total_changed_bits = 0\n",
    "    changed_bits_list = []\n",
    "    for _ in range(num_experiments):\n",
    "    # randomly change some bits in the random string\n",
    "        changed_string = ''.join(np.random.choice(['0', '1'], size=length))\n",
    "        CTQW_run_changed = CTQW(changed_string, time)\n",
    "        changed_hash_value = prob_dist(CTQW_run_changed)\n",
    "\n",
    "        changed_bits = 0\n",
    "        for bit in range(length):\n",
    "            if original_hash_value[bit] != changed_hash_value[bit]:\n",
    "                changed_bits += 1\n",
    "        \n",
    "        changed_bits_list.append(changed_bits)\n",
    "        total_changed_bits += changed_bits\n",
    "\n",
    "    mean_changed_bits_ = total_changed_bits / num_experiments\n",
    "\\   \n",
    "    difference = changed_bits_list - mean_changed_bits_\n",
    "    delta_beta = np.sqrt(np.sum(changed_bits_list - mean_changed_bits_)**2/(num_experiments - 1))\n",
    "    return delta_beta\n",
    "\"\"\"\n"
   ]
  },
  {
   "cell_type": "markdown",
   "id": "31ee0bea",
   "metadata": {},
   "source": [
    "Run tests"
   ]
  },
  {
   "cell_type": "code",
   "execution_count": 382,
   "id": "393b7200",
   "metadata": {},
   "outputs": [
    {
     "name": "stdout",
     "output_type": "stream",
     "text": [
      "Hash value: 11100111101110001101101011000010010010010101011001000110000001001101101011000010010010010101011001\n",
      "Hash value: 11100111101110011001011001000000000001001011111101000110000001011001011001000000000001001011111101\n",
      "Hash value: 1010010010101000000010110000000000011010000000111111110110100100000001011000000000001101000000011\n",
      "Hash value: 1010111000000110001010000000100100101011100010101111010110011011000101000000010010010101110001010\n",
      "Hash value: 1010111000000110001010000000100100101011100010101111010110011011000101000000010010010101110001010\n",
      "Hash value: 1010111000001011100010100000100100100110001010001111010110011101110001010000010010010011000101000\n",
      "Hash value: 11100111101110001101101011000010010010010101011001000110000001001101101011000010010010010101011001\n",
      "Hash value: 1010010010101000101111100000100100101000101111101111110110100100010111110000010010010100010111110\n",
      "Hash value: 1010010010100111100100010000001010101010010101001111110110100011110010001000000101010101001010100\n",
      "Hash value: 1010111000000111101100010000001010101010011010101111010110011011110110001000000101010101001101010\n"
     ]
    },
    {
     "data": {
      "text/plain": [
       "2"
      ]
     },
     "execution_count": 382,
     "metadata": {},
     "output_type": "execute_result"
    }
   ],
   "source": [
    "# collision test run\n",
    "collision_test(10, 5)\n",
    "\n",
    "# mean changed bits run\n",
    "#mean_changed = mean_changed_bits(100, 12)\n",
    "#print(\"Mean number of changed bits: \", mean_changed)\n",
    "\n",
    "\n",
    "#mean of added bit number of zeroes\n",
    "\n",
    "#mean changed probability\n",
    "#p = mean_changed_probability(100, 12)\n",
    "#print(\"Mean changed probability p: \", p, \" %\")\n",
    "\n",
    "# standard variance of the changed probability\n",
    "\n"
   ]
  },
  {
   "cell_type": "code",
   "execution_count": 301,
   "id": "67258aff",
   "metadata": {},
   "outputs": [
    {
     "name": "stdout",
     "output_type": "stream",
     "text": [
      "36\n"
     ]
    }
   ],
   "source": [
    "print(len('16509f0000905e10310110315e109000009f'))"
   ]
  },
  {
   "cell_type": "code",
   "execution_count": null,
   "id": "ac87eed0",
   "metadata": {},
   "outputs": [],
   "source": []
  }
 ],
 "metadata": {
  "kernelspec": {
   "display_name": "test_venv (3.11.6)",
   "language": "python",
   "name": "python3"
  },
  "language_info": {
   "codemirror_mode": {
    "name": "ipython",
    "version": 3
   },
   "file_extension": ".py",
   "mimetype": "text/x-python",
   "name": "python",
   "nbconvert_exporter": "python",
   "pygments_lexer": "ipython3",
   "version": "3.11.6"
  }
 },
 "nbformat": 4,
 "nbformat_minor": 5
}
