{
 "cells": [
  {
   "cell_type": "markdown",
   "id": "1bd3722f",
   "metadata": {},
   "source": [
    "Libraries"
   ]
  },
  {
   "cell_type": "code",
   "execution_count": 22,
   "id": "613f42ba",
   "metadata": {},
   "outputs": [],
   "source": [
    "import numpy as np\n",
    "from scipy.sparse import coo_matrix\n",
    "from qiskit import QuantumCircuit, ClassicalRegister, QuantumRegister\n",
    "from qiskit_aer import AerSimulator\n",
    "\n",
    "from qiskit.quantum_info import Operator\n",
    "\n",
    "import matplotlib.pyplot as plt\n",
    "import networkx as nx"
   ]
  },
  {
   "cell_type": "markdown",
   "id": "5a8cd88e",
   "metadata": {},
   "source": [
    "Text to binary convertor"
   ]
  },
  {
   "cell_type": "code",
   "execution_count": 1,
   "id": "7fb2660e",
   "metadata": {},
   "outputs": [],
   "source": [
    "def text_to_binary(text):\n",
    "    return ' '.join(format(ord(char), '08b') for char in text)"
   ]
  },
  {
   "cell_type": "code",
   "execution_count": 4,
   "id": "27605181",
   "metadata": {},
   "outputs": [
    {
     "name": "stdout",
     "output_type": "stream",
     "text": [
      "01001000 01101001\n"
     ]
    }
   ],
   "source": [
    "text = \"Hi\"\n",
    "binary_string = text_to_binary(text)\n",
    "print(binary_string)"
   ]
  },
  {
   "cell_type": "markdown",
   "id": "fe059513",
   "metadata": {},
   "source": [
    "lively DTQW"
   ]
  },
  {
   "cell_type": "code",
   "execution_count": 43,
   "id": "b5497652",
   "metadata": {},
   "outputs": [],
   "source": [
    "def G_matrix():\n",
    "    grover_matrix = np.array([[-1/3, 2/3, 2/3],\n",
    "                              [2/3, -1/3, 2/3],\n",
    "                              [2/3, 2/3, -1/3]])\n",
    "    # grover comes from |a_1|^2 + |a_2|^2 + |a_3|^2 = 1\n",
    "\n",
    "    return grover_matrix\n",
    "\n",
    "def create_grover_operator(grover_matrix):\n",
    "    return Operator(grover_matrix)\n",
    "\n",
    "def shift_operator(N, tau):\n",
    "    if N <= 0:\n",
    "        raise ValueError(\"N must be a positive integer.\")\n",
    "    \n",
    "    if tau > np.floor(N / 2):\n",
    "        raise ValueError(\"tau must be greater than or equal to N/2.\")\n",
    "\n",
    "    dim = 3 * N\n",
    "    S = np.zeros((dim, dim), dtype=complex)\n",
    "\n",
    "    for x in range(N):\n",
    "        # coin = 0: move to x+1 mod N\n",
    "        S[( (x + 1) % N ) + 0 * N, x + 0 * N] = 1\n",
    "\n",
    "        # coin = 1: move to x-1 mod N\n",
    "        S[( (x - 1) % N ) + 1 * N, x + 1 * N] = 1\n",
    "\n",
    "        # coin = 2: move to x+tau mod N\n",
    "        S[( (x + tau) % N ) + 2 * N, x + 2 * N] = 1\n",
    "\n",
    "    return S\n",
    "    \n",
    "\n",
    "def U_matrix(S, C, N):\n",
    "    if N <= 0:\n",
    "        raise ValueError(\"N must be a positive integer.\")\n",
    "    \n",
    "    identity = np.eye(N)\n",
    "    U = S @ (np.kron(identity, C))\n",
    "    return U"
   ]
  },
  {
   "cell_type": "code",
   "execution_count": 66,
   "id": "ba317b60",
   "metadata": {},
   "outputs": [
    {
     "name": "stdout",
     "output_type": "stream",
     "text": [
      "[[0.+0.j 1.+0.j 0.+0.j 0.+0.j 0.+0.j 0.+0.j]\n",
      " [1.+0.j 0.+0.j 0.+0.j 0.+0.j 0.+0.j 0.+0.j]\n",
      " [0.+0.j 0.+0.j 0.+0.j 1.+0.j 0.+0.j 0.+0.j]\n",
      " [0.+0.j 0.+0.j 1.+0.j 0.+0.j 0.+0.j 0.+0.j]\n",
      " [0.+0.j 0.+0.j 0.+0.j 0.+0.j 0.+0.j 1.+0.j]\n",
      " [0.+0.j 0.+0.j 0.+0.j 0.+0.j 1.+0.j 0.+0.j]]\n",
      "[[ 0.66666667+0.j -0.33333333+0.j  0.66666667+0.j  0.        +0.j\n",
      "   0.        +0.j  0.        +0.j]\n",
      " [-0.33333333+0.j  0.66666667+0.j  0.66666667+0.j  0.        +0.j\n",
      "   0.        +0.j  0.        +0.j]\n",
      " [ 0.        +0.j  0.        +0.j  0.        +0.j -0.33333333+0.j\n",
      "   0.66666667+0.j  0.66666667+0.j]\n",
      " [ 0.66666667+0.j  0.66666667+0.j -0.33333333+0.j  0.        +0.j\n",
      "   0.        +0.j  0.        +0.j]\n",
      " [ 0.        +0.j  0.        +0.j  0.        +0.j  0.66666667+0.j\n",
      "   0.66666667+0.j -0.33333333+0.j]\n",
      " [ 0.        +0.j  0.        +0.j  0.        +0.j  0.66666667+0.j\n",
      "  -0.33333333+0.j  0.66666667+0.j]]\n"
     ]
    }
   ],
   "source": [
    "N = 2\n",
    "tau = 1\n",
    "S = shift_operator(N, tau)\n",
    "print(S)\n",
    "G = G_matrix()\n",
    "#print(G)\n",
    "U = U_matrix(S, G, N)\n",
    "print(U)"
   ]
  },
  {
   "cell_type": "markdown",
   "id": "6e03865e",
   "metadata": {},
   "source": [
    "Initial state creation"
   ]
  },
  {
   "cell_type": "code",
   "execution_count": 53,
   "id": "d9d29d2c",
   "metadata": {},
   "outputs": [],
   "source": [
    "def initial_state(N, a1, a2, a3):\n",
    "\n",
    "    a1 = np.full(N, a1, dtype=complex) if np.isscalar(a1) else np.array(a1, dtype=complex)\n",
    "    a2 = np.full(N, a2, dtype=complex) if np.isscalar(a2) else np.array(a2, dtype=complex)\n",
    "    a3 = np.full(N, a3, dtype=complex) if np.isscalar(a3) else np.array(a3, dtype=complex)\n",
    "    \n",
    "    # Build the full state vector |x> ⊗ |coin>\n",
    "    state = np.zeros((N*3,), dtype=complex)\n",
    "    for x in range(N):\n",
    "        state[x*3 + 0] = a1[x]  # coin state 0\n",
    "        state[x*3 + 1] = a2[x]  # coin state 1\n",
    "        state[x*3 + 2] = a3[x]  # coin state 2\n",
    "    \n",
    "    # Normalize\n",
    "    norm = np.linalg.norm(state)\n",
    "    if norm != 0:\n",
    "        state /= norm\n",
    "    \n",
    "    return state"
   ]
  },
  {
   "cell_type": "code",
   "execution_count": 64,
   "id": "eb3280b2",
   "metadata": {},
   "outputs": [
    {
     "name": "stdout",
     "output_type": "stream",
     "text": [
      "Initial state vector:\n",
      " [0.40824829+0.j 0.40824829+0.j 0.40824829+0.j 0.40824829+0.j\n",
      " 0.40824829+0.j 0.40824829+0.j]\n",
      "Norm = 1.0\n",
      "State |0>: Probability = 0.1667\n",
      "State |1>: Probability = 0.1667\n",
      "State |2>: Probability = 0.1667\n",
      "State |3>: Probability = 0.1667\n",
      "State |4>: Probability = 0.1667\n",
      "State |5>: Probability = 0.1667\n",
      "State vector after applying U:\n",
      " [0.40824829+0.j 0.40824829+0.j 0.40824829+0.j 0.40824829+0.j\n",
      " 0.40824829+0.j 0.40824829+0.j]\n",
      "State |0>: Probability = 0.1667\n",
      "State |1>: Probability = 0.1667\n",
      "State |2>: Probability = 0.1667\n",
      "State |3>: Probability = 0.1667\n",
      "State |4>: Probability = 0.1667\n",
      "State |5>: Probability = 0.1667\n",
      "None\n"
     ]
    }
   ],
   "source": [
    "\n",
    "N = 2\n",
    "psi0 = initial_state(N, a1=1/np.sqrt(3), a2=1/np.sqrt(3), a3=1/np.sqrt(3))\n",
    "print(\"Initial state vector:\\n\", psi0)\n",
    "print(\"Norm =\", np.linalg.norm(psi0))\n",
    "\n",
    "# print the probability distribution just in positional space\n",
    "def print_probability_distribution(state):\n",
    "    probabilities = np.abs(state)**2\n",
    "    for i, prob in enumerate(probabilities):\n",
    "        print(f\"State |{i}>: Probability = {prob:.4f}\")\n",
    "print_probability_distribution(psi0)\n",
    "\n",
    "psi_1 = np.dot(U, psi0)\n",
    "print(\"State vector after applying U:\\n\", psi_1)\n",
    "print(print_probability_distribution(psi_1))"
   ]
  },
  {
   "cell_type": "code",
   "execution_count": 63,
   "id": "cf592a50",
   "metadata": {},
   "outputs": [
    {
     "name": "stdout",
     "output_type": "stream",
     "text": [
      "Initial state vector:\n",
      " [0.57735027+0.j 0.57735027+0.j 0.57735027+0.j 0.        +0.j\n",
      " 0.        +0.j 0.        +0.j]\n",
      "Norm = 1.0\n"
     ]
    }
   ],
   "source": [
    "def initial_state_single_position(N):\n",
    "    \"\"\"\n",
    "    Initial state: particle at position x=0 with coin state (1,1,1)/sqrt(3)\n",
    "    \"\"\"\n",
    "    state = np.zeros((N * 3,), dtype=complex)\n",
    "\n",
    "    # Coin superposition at position 0\n",
    "    coin_superpos = np.array([1, 1, 1], dtype=complex) / np.sqrt(3)\n",
    "    \n",
    "    # Fill position x=0 in the vector\n",
    "    state[0*3 : 0*3 + 3] = coin_superpos\n",
    "    \n",
    "    return state\n",
    "\n",
    "# Example: N=5\n",
    "N = 2\n",
    "psi0 = initial_state_single_position(N)\n",
    "print(\"Initial state vector:\\n\", psi0)\n",
    "print(\"Norm =\", np.linalg.norm(psi0))"
   ]
  },
  {
   "cell_type": "markdown",
   "id": "b188a83a",
   "metadata": {},
   "source": [
    "Making circuit directly (based on article: 2023 Hou)"
   ]
  },
  {
   "cell_type": "code",
   "execution_count": 20,
   "id": "7d4dba08",
   "metadata": {},
   "outputs": [],
   "source": [
    "def shift_operator(qc, qpos, qcoin, tau):\n",
    "    qc.x(qcoin[0]); qc.x(qcoin[1])\n",
    "    increment_mod2n(qc, qpos, controls=qcoin, ctrl_state='11')\n",
    "    qc.x(qcoin[0]); qc.x(qcoin[1])\n",
    "\n",
    "    # c=1: |01>，-1 ≡ +(N-1)\n",
    "    qc.x(qcoin[0])\n",
    "    add_tau_mod2n(qc, qpos, (N-1), controls=qcoin, ctrl_state='11')\n",
    "    qc.x(qcoin[0])\n",
    "\n",
    "    # c=2: |10>，+tau\n",
    "    qc.x(qcoin[1])  # 把 |10> 變成 |11>\n",
    "    add_tau_mod2n(qc, qpos, tau, controls=qcoin, ctrl_state='11')\n",
    "    qc.x(qcoin[1])\n",
    "\n",
    "def increment_mod2n(qc, qpos, controls=None, ctrl_state=None):\n",
    "    # 簡單 ripple-carry +1\n",
    "    n = len(qpos)\n",
    "    qc.x(qpos[0]) if controls is None else qc.mcx(controls, qpos[0])\n",
    "    for i in range(1, n):\n",
    "        if controls is None:\n",
    "            qc.mcx(qpos[:i], qpos[i])\n",
    "        else:\n",
    "            qc.mcx(list(controls)+qpos[:i], qpos[i])\n",
    "\n",
    "def add_tau_mod2n(qc, qpos, tau, controls=None, ctrl_state=None):\n",
    "    for i in range(len(qpos)):\n",
    "        if (tau >> i) & 1:\n",
    "            if controls is None:\n",
    "                qc.x(qpos[i])\n",
    "            else:\n",
    "                qc.mcx(controls, qpos[i])"
   ]
  },
  {
   "cell_type": "markdown",
   "id": "0b91043e",
   "metadata": {},
   "source": [
    "Print probability distribution"
   ]
  },
  {
   "cell_type": "code",
   "execution_count": null,
   "id": "37e80fd9",
   "metadata": {},
   "outputs": [],
   "source": [
    "def plotBarProb(prob):      ### 化成長條圖\n",
    "    \"\"\"\n",
    "    prob: numpy array, 機率分佈 (長度 N)\n",
    "    \"\"\"\n",
    "    N = len(prob)\n",
    "    x = np.arange(N)\n",
    "\n",
    "    fig, ax = plt.subplots(figsize=(6,4))\n",
    "    bars = ax.bar(x, prob, color='skyblue', edgecolor='black')\n",
    "\n",
    "    # 標籤與刻度\n",
    "    ax.set_xlabel(\"Vertex index\")\n",
    "    ax.set_ylabel(\"Probability\")\n",
    "    ax.set_title(\"Quantum walk position probability\")\n",
    "    ax.set_xticks(x)\n",
    "    ax.set_ylim(0, max(prob)*1.2)\n",
    "\n",
    "    # 在每個 bar 上加數值標籤\n",
    "    for bar, p in zip(bars, prob):\n",
    "        ax.text(bar.get_x() + bar.get_width()/2, bar.get_height() + 0.005,\n",
    "                f\"{p:.3f}\", ha='center', va='bottom', fontsize=8)\n",
    "\n",
    "    plt.show()"
   ]
  },
  {
   "cell_type": "code",
   "execution_count": 25,
   "id": "333ff059",
   "metadata": {},
   "outputs": [
    {
     "name": "stdout",
     "output_type": "stream",
     "text": [
      "Message bits: 0110000101111001011010010110100101101001\n",
      "[[-0.33333333  0.66666667  0.66666667  0.        ]\n",
      " [ 0.66666667 -0.33333333  0.66666667  0.        ]\n",
      " [ 0.66666667  0.66666667 -0.33333333  0.        ]\n",
      " [ 0.          0.          0.          1.        ]]\n"
     ]
    }
   ],
   "source": [
    "N = 8                     # 頂點數（示範用，小N方便畫圖）\n",
    "n_pos = int(np.log2(N))   # 編碼位置所需 qubit 數\n",
    "tau_map = {'0': 0, '1': 2}\n",
    "#msg_bits = '0110'         # 示範的訊息 bits\n",
    "a1 = a2 = a3 = 1/np.sqrt(3)\n",
    "\n",
    "msg = 'ayiii' \n",
    "msg_bits = ''.join(f\"{ord(c):08b}\" for c in msg)\n",
    "print(\"Message bits:\", msg_bits)\n",
    "\n",
    "\n",
    "\n",
    "#  Grover coin (3D 嵌入 4D)\n",
    "sv = np.array([1,1,1], dtype=float)/np.sqrt(3)\n",
    "G3 = 2*np.outer(sv, sv) - np.eye(3)\n",
    "G4 = np.eye(4)\n",
    "G4[:3,:3] = G3\n",
    "\n",
    "print(G4)"
   ]
  },
  {
   "cell_type": "code",
   "execution_count": null,
   "id": "e9bdecf1",
   "metadata": {},
   "outputs": [],
   "source": []
  }
 ],
 "metadata": {
  "kernelspec": {
   "display_name": "test_venv (3.11.6)",
   "language": "python",
   "name": "python3"
  },
  "language_info": {
   "codemirror_mode": {
    "name": "ipython",
    "version": 3
   },
   "file_extension": ".py",
   "mimetype": "text/x-python",
   "name": "python",
   "nbconvert_exporter": "python",
   "pygments_lexer": "ipython3",
   "version": "3.11.6"
  }
 },
 "nbformat": 4,
 "nbformat_minor": 5
}
